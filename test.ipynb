{
 "cells": [
  {
   "cell_type": "code",
   "execution_count": 1,
   "source": [
    "import csv\r\n",
    "import requests\r\n",
    "from bs4 import BeautifulSoup\r\n",
    "from msedge.selenium_tools import Edge,EdgeOptions"
   ],
   "outputs": [],
   "metadata": {}
  },
  {
   "cell_type": "code",
   "execution_count": 3,
   "source": [
    "options=EdgeOptions()\r\n",
    "options.use_chromium=True\r\n",
    "driver=Edge(options=options,executable_path='C:/Users/abhis/Downloads/edgedriver_win64/msedgedriver.exe')"
   ],
   "outputs": [],
   "metadata": {}
  },
  {
   "cell_type": "code",
   "execution_count": 4,
   "source": [
    "def get_url(search_term,sort,asc):\r\n",
    "    template='https://www.imdb.com/search/title/?title_type=feature&num_votes=25000,&genres={}&sort={},{}'\r\n",
    "    return template.format(search_term,sort,asc)"
   ],
   "outputs": [],
   "metadata": {}
  },
  {
   "cell_type": "code",
   "execution_count": 5,
   "source": [
    "url=get_url('action','alpha','asc')\r\n",
    "print(url)"
   ],
   "outputs": [
    {
     "output_type": "stream",
     "name": "stdout",
     "text": [
      "https://www.imdb.com/search/title/?title_type=feature&num_votes=25000,&genres=action&sort=alpha,asc\n"
     ]
    }
   ],
   "metadata": {}
  },
  {
   "cell_type": "code",
   "execution_count": 6,
   "source": [
    "driver.get(url)\r\n",
    "soup=BeautifulSoup(driver.page_source,'html.parser')\r\n",
    "results=soup.find_all('div',{'lister-item-content'})\r\n",
    "print(len(results))\r\n"
   ],
   "outputs": [
    {
     "output_type": "stream",
     "name": "stdout",
     "text": [
      "50\n"
     ]
    }
   ],
   "metadata": {}
  },
  {
   "cell_type": "code",
   "execution_count": 7,
   "source": [
    "item=results[0]\r\n",
    "mov_title=item.h3.a.text\r\n",
    "print(mov_title)"
   ],
   "outputs": [
    {
     "output_type": "stream",
     "name": "stdout",
     "text": [
      "#Alive\n"
     ]
    }
   ],
   "metadata": {}
  },
  {
   "cell_type": "code",
   "execution_count": 17,
   "source": [
    "item=results[0]\r\n",
    "mov_title=item.h3.find('span',{'lister-item-year text-muted unbold'}).text.strip('()')\r\n",
    "print(mov_title)"
   ],
   "outputs": [
    {
     "output_type": "stream",
     "name": "stdout",
     "text": [
      "2020\n"
     ]
    }
   ],
   "metadata": {}
  },
  {
   "cell_type": "code",
   "execution_count": 113,
   "source": [
    "item=results[0]\r\n",
    "mov_time=item.p.find('span',{\"runtime\"}).text\r\n",
    "print(mov_time)"
   ],
   "outputs": [
    {
     "output_type": "stream",
     "name": "stdout",
     "text": [
      "98 min\n"
     ]
    }
   ],
   "metadata": {}
  },
  {
   "cell_type": "code",
   "execution_count": 128,
   "source": [
    "item=results[0]\r\n",
    "genre=item.p.find('span',{\"genre\"}).text.strip(' \\n')\r\n",
    "genre"
   ],
   "outputs": [
    {
     "output_type": "execute_result",
     "data": {
      "text/plain": [
       "'Action, Drama, Horror'"
      ]
     },
     "metadata": {},
     "execution_count": 128
    }
   ],
   "metadata": {}
  },
  {
   "cell_type": "code",
   "execution_count": 115,
   "source": [
    "item=results[0]\r\n",
    "user_rating=item.find('div',{\"ratings-bar\"}).strong.text\r\n",
    "print(user_rating)"
   ],
   "outputs": [
    {
     "output_type": "stream",
     "name": "stdout",
     "text": [
      "6.3\n"
     ]
    }
   ],
   "metadata": {}
  },
  {
   "cell_type": "code",
   "execution_count": 126,
   "source": [
    "item=results[0]\r\n",
    "num_votes=item.find('p',{\"sort-num_votes-visible\"}).find_all('span')[-1].text\r\n",
    "print(num_votes)"
   ],
   "outputs": [
    {
     "output_type": "stream",
     "name": "stdout",
     "text": [
      "30,446\n"
     ]
    }
   ],
   "metadata": {}
  },
  {
   "cell_type": "code",
   "execution_count": 72,
   "source": [
    "item=results[0]\r\n",
    "desc=item.find_all('p',{\"text-muted\"})\r\n",
    "print(desc[-1].text.strip('\\n'))"
   ],
   "outputs": [
    {
     "output_type": "stream",
     "name": "stdout",
     "text": [
      "The rapid spread of an unknown infection has left an entire city in ungovernable chaos, but one survivor remains alive in isolation. It is his story.\n"
     ]
    }
   ],
   "metadata": {}
  },
  {
   "cell_type": "code",
   "execution_count": 111,
   "source": [
    "item=results[0]\r\n",
    "actors=item.find('p',{''}).find_all('a')\r\n",
    "director=actors[0].text\r\n",
    "for i in range(1,len(actors)):\r\n",
    "    print(actors[i].text)\r\n",
    "print(director)"
   ],
   "outputs": [
    {
     "output_type": "stream",
     "name": "stdout",
     "text": [
      "Yoo Ah-in\n",
      "Park Shin-Hye\n",
      "Jeon Bae-soo\n",
      "Hyun-Wook Lee\n",
      "Il Cho\n"
     ]
    }
   ],
   "metadata": {}
  },
  {
   "cell_type": "code",
   "execution_count": 3,
   "source": [
    "import csv\r\n",
    "import requests\r\n",
    "from bs4 import BeautifulSoup\r\n",
    "from msedge.selenium_tools import Edge,EdgeOptions\r\n",
    "\r\n",
    "def get_url(search_term,sort,asc):\r\n",
    "    template='https://www.imdb.com/search/title/?title_type=feature&num_votes=25000,&genres={}&sort={},{}'\r\n",
    "    return template.format(search_term,sort,asc)\r\n",
    "\r\n",
    "def main(search_term,sort,asc):\r\n",
    "    options=EdgeOptions()\r\n",
    "    options.use_chromium=True\r\n",
    "    driver=Edge(options=options,executable_path='C:/Users/abhis/Downloads/edgedriver_win64/msedgedriver.exe')\r\n",
    "    url=get_url(search_term,sort,asc)\r\n",
    "    driver.get(url)\r\n",
    "    soup=BeautifulSoup(driver.page_source,'html.parser')\r\n",
    "    results=soup.find_all('div',{'lister-item-content'})\r\n",
    "    for i in range (0,3):\r\n",
    "        item=results[i]\r\n",
    "        mov_title=item.h3.a.text\r\n",
    "        mov_time=item.p.find('span',{\"runtime\"}).text\r\n",
    "        genre=item.p.find('span',{\"genre\"}).text.strip(' \\n')\r\n",
    "        user_rating=item.find('div',{\"ratings-bar\"}).strong.text\r\n",
    "        num_votes=item.find('p',{\"sort-num_votes-visible\"}).find_all('span')[-1].text.strip(' \\n')\r\n",
    "        actors=item.find('p',{''}).find_all('a')\r\n",
    "        director=actors[0].text\r\n",
    "        desc=item.find_all('p',{\"text-muted\"})\r\n",
    "        \r\n",
    "        print(mov_title,mov_time,genre,user_rating,num_votes,director)\r\n",
    "        for i in range(1,len(actors)):\r\n",
    "            print(actors[i].text)\r\n",
    "        print(desc[-1].text.strip('\\n'))\r\n",
    "        print(\"*********************END*********************\")\r\n",
    "    driver.close()\r\n",
    "    \r\n",
    "\r\n",
    "main('action','alpha','asc')"
   ],
   "outputs": [],
   "metadata": {}
  },
  {
   "cell_type": "code",
   "execution_count": null,
   "source": [],
   "outputs": [],
   "metadata": {}
  }
 ],
 "metadata": {
  "orig_nbformat": 4,
  "language_info": {
   "name": "python",
   "version": "3.8.3",
   "mimetype": "text/x-python",
   "codemirror_mode": {
    "name": "ipython",
    "version": 3
   },
   "pygments_lexer": "ipython3",
   "nbconvert_exporter": "python",
   "file_extension": ".py"
  },
  "kernelspec": {
   "name": "python3",
   "display_name": "Python 3.8.3 64-bit ('base': conda)"
  },
  "interpreter": {
   "hash": "6d81e14efdf2b2b069cdefaacdf16081bee34d8d5c94b3d415e6c3ad4f5f9598"
  }
 },
 "nbformat": 4,
 "nbformat_minor": 2
}